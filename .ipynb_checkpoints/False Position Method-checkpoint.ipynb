{
 "cells": [
  {
   "cell_type": "code",
   "execution_count": 11,
   "id": "00203195",
   "metadata": {},
   "outputs": [],
   "source": [
    "MAX_ITER = 1000000"
   ]
  },
  {
   "cell_type": "code",
   "execution_count": 12,
   "id": "202a3518",
   "metadata": {},
   "outputs": [],
   "source": [
    "def function(x):\n",
    "    return 5*x*x - 3*x -14"
   ]
  },
  {
   "cell_type": "code",
   "execution_count": 13,
   "id": "be809dd3",
   "metadata": {},
   "outputs": [],
   "source": [
    "def xr(l,u):\n",
    "    return (l * function(u) - u * function(l))/ (function(u) - function(l))"
   ]
  },
  {
   "cell_type": "code",
   "execution_count": 14,
   "id": "f05a4b71",
   "metadata": {},
   "outputs": [],
   "source": [
    "def false_position(a,b):\n",
    "    if function(a) * function(b)>0:\n",
    "        print(\"not possible\")\n",
    "        return\n",
    "    \n",
    "    c = a\n",
    "    for i in range(MAX_ITER):\n",
    "        c = xr(a,b)\n",
    "        if function(c) == 0:\n",
    "            break\n",
    "        elif function(a) * function(c)<0:\n",
    "            b = c\n",
    "        else:\n",
    "            a = c\n",
    "    return c"
   ]
  },
  {
   "cell_type": "code",
   "execution_count": 15,
   "id": "fe39e2cb",
   "metadata": {},
   "outputs": [
    {
     "name": "stdout",
     "output_type": "stream",
     "text": [
      "-1\n",
      "5\n",
      "2.0\n"
     ]
    }
   ],
   "source": [
    "a = int(input())\n",
    "b = int(input())\n",
    "print(false_position(a,b))"
   ]
  },
  {
   "cell_type": "markdown",
   "id": "c13aec22",
   "metadata": {},
   "source": []
  }
 ],
 "metadata": {
  "kernelspec": {
   "display_name": "Python 3 (ipykernel)",
   "language": "python",
   "name": "python3"
  },
  "language_info": {
   "codemirror_mode": {
    "name": "ipython",
    "version": 3
   },
   "file_extension": ".py",
   "mimetype": "text/x-python",
   "name": "python",
   "nbconvert_exporter": "python",
   "pygments_lexer": "ipython3",
   "version": "3.10.0"
  }
 },
 "nbformat": 4,
 "nbformat_minor": 5
}
