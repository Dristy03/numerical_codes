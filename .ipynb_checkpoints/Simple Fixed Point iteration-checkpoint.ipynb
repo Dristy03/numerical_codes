{
 "cells": [
  {
   "cell_type": "code",
   "execution_count": 3,
   "id": "d5a90ec1",
   "metadata": {},
   "outputs": [],
   "source": [
    "import math"
   ]
  },
  {
   "cell_type": "code",
   "execution_count": 4,
   "id": "c5aeba07",
   "metadata": {},
   "outputs": [],
   "source": [
    "def function(x):\n",
    "    return x*x*x + x*x -1"
   ]
  },
  {
   "cell_type": "code",
   "execution_count": 5,
   "id": "d00dc4b3",
   "metadata": {},
   "outputs": [],
   "source": [
    "def g(x):\n",
    "    return 1/math.sqrt(1+x)"
   ]
  },
  {
   "cell_type": "code",
   "execution_count": 11,
   "id": "02f3d923",
   "metadata": {},
   "outputs": [],
   "source": [
    "def fixedPointIteration(x0, es, N):\n",
    "    xr=x0\n",
    "    step = 1\n",
    "    flag = 1\n",
    "  \n",
    "    while True:\n",
    "        xrold=xr\n",
    "        xr = g(xrold)\n",
    "     \n",
    "        step = step+1\n",
    "        \n",
    "        if xr!=0:\n",
    "            ea = abs((xr-xrold)/xr)*100\n",
    "        \n",
    "        if ea<es:\n",
    "            flag=1\n",
    "            break\n",
    "        \n",
    "        if step > N:\n",
    "            flag=0\n",
    "            break\n",
    "        \n",
    "\n",
    "\n",
    "    if flag==1:\n",
    "        print('Required root is: %0.8f' % xr)\n",
    "    else:\n",
    "        print('Not Convergent.')"
   ]
  },
  {
   "cell_type": "code",
   "execution_count": 13,
   "id": "415c0331",
   "metadata": {},
   "outputs": [
    {
     "name": "stdout",
     "output_type": "stream",
     "text": [
      "2\n",
      "0.00001\n",
      "11\n",
      "246.41016151377545\n",
      "27.489075094630834\n",
      "6.71275259645754\n",
      "1.4040711512515278\n",
      "0.303795827631963\n",
      "0.06525642798057688\n",
      "0.014039223006270047\n",
      "0.0030193745289253194\n",
      "0.0006494149382271906\n",
      "0.00013967568628853365\n",
      "3.004144404366997e-05\n",
      "Not Convergent.\n"
     ]
    }
   ],
   "source": [
    "x0 = float(input())\n",
    "es = float(input())\n",
    "N = int(input())\n",
    "\n",
    "fixedPointIteration(x0,es,N)\n"
   ]
  },
  {
   "cell_type": "code",
   "execution_count": null,
   "id": "be6188fc",
   "metadata": {},
   "outputs": [],
   "source": []
  }
 ],
 "metadata": {
  "kernelspec": {
   "display_name": "Python 3 (ipykernel)",
   "language": "python",
   "name": "python3"
  },
  "language_info": {
   "codemirror_mode": {
    "name": "ipython",
    "version": 3
   },
   "file_extension": ".py",
   "mimetype": "text/x-python",
   "name": "python",
   "nbconvert_exporter": "python",
   "pygments_lexer": "ipython3",
   "version": "3.10.0"
  }
 },
 "nbformat": 4,
 "nbformat_minor": 5
}
