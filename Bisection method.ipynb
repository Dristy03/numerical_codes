{
 "cells": [
  {
   "cell_type": "code",
   "execution_count": 4,
   "id": "a387381c",
   "metadata": {},
   "outputs": [],
   "source": [
    "def function(x):\n",
    "    return 5*x*x - 3*x -14"
   ]
  },
  {
   "cell_type": "code",
   "execution_count": 5,
   "id": "7570f8d3",
   "metadata": {},
   "outputs": [],
   "source": [
    "def bisection(a,b):\n",
    "    if function(a) * function(b)>0:\n",
    "        print(\"not possible\")\n",
    "        return\n",
    "    \n",
    "    c = a\n",
    "    while (b-a) >= 0.01:\n",
    "        c = (a+b)/2\n",
    "        if function(c) == 0.0:\n",
    "            break\n",
    "            \n",
    "        if function(c)*function(a) < 0:\n",
    "            b = c\n",
    "        else:\n",
    "            a = c\n",
    "    return c"
   ]
  },
  {
   "cell_type": "code",
   "execution_count": 6,
   "id": "aa04e5b3",
   "metadata": {},
   "outputs": [
    {
     "name": "stdout",
     "output_type": "stream",
     "text": [
      "-1\n",
      "5\n",
      "2.0\n"
     ]
    }
   ],
   "source": [
    "a = int(input())\n",
    "b = int(input())\n",
    "print(bisection(a,b))"
   ]
  },
  {
   "cell_type": "code",
   "execution_count": null,
   "id": "0a3f1926",
   "metadata": {},
   "outputs": [],
   "source": []
  }
 ],
 "metadata": {
  "kernelspec": {
   "display_name": "Python 3 (ipykernel)",
   "language": "python",
   "name": "python3"
  },
  "language_info": {
   "codemirror_mode": {
    "name": "ipython",
    "version": 3
   },
   "file_extension": ".py",
   "mimetype": "text/x-python",
   "name": "python",
   "nbconvert_exporter": "python",
   "pygments_lexer": "ipython3",
   "version": "3.10.0"
  }
 },
 "nbformat": 4,
 "nbformat_minor": 5
}
