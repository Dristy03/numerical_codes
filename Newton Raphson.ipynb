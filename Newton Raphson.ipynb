{
 "cells": [
  {
   "cell_type": "code",
   "execution_count": 13,
   "id": "7b9013bf",
   "metadata": {},
   "outputs": [],
   "source": [
    "def function( x ):\n",
    "    return x * x * x - x * x + 2"
   ]
  },
  {
   "cell_type": "code",
   "execution_count": 14,
   "id": "b8fc1f8b",
   "metadata": {},
   "outputs": [],
   "source": [
    "def derivFunction( x ):\n",
    "    return 3 * x * x - 2 * x"
   ]
  },
  {
   "cell_type": "code",
   "execution_count": 15,
   "id": "da2e5f80",
   "metadata": {},
   "outputs": [],
   "source": [
    "def newtonRaphson(x, es, N):\n",
    "    step = 1\n",
    "    flag = 1\n",
    "    condition = True\n",
    "    \n",
    "    while condition:\n",
    "        if derivFunction(x) == 0.0:\n",
    "            print('Divide by zero error!')\n",
    "            break\n",
    "        h = function(x)/derivFunction(x)\n",
    "        x = x - h\n",
    "      \n",
    "        step = step + 1\n",
    "        \n",
    "        if step > N:\n",
    "            flag = 0\n",
    "            break\n",
    "        \n",
    "        condition = abs(function(x)) > es\n",
    "     \n",
    "    if flag==1:\n",
    "        print('\\nRequired root is: %0.8f' % x)\n",
    "    else:\n",
    "        print('\\nNot Convergent.')"
   ]
  },
  {
   "cell_type": "code",
   "execution_count": 16,
   "id": "c9e2bba5",
   "metadata": {},
   "outputs": [
    {
     "name": "stdout",
     "output_type": "stream",
     "text": [
      "-5\n",
      "0.00001\n",
      "10\n",
      "\n",
      "Required root is: -1.00000000\n"
     ]
    }
   ],
   "source": [
    "x = float(input())\n",
    "es = float(input())\n",
    "N = int(input())\n",
    "newtonRaphson(x,es,N)"
   ]
  },
  {
   "cell_type": "code",
   "execution_count": null,
   "id": "1cd6f15c",
   "metadata": {},
   "outputs": [],
   "source": []
  }
 ],
 "metadata": {
  "kernelspec": {
   "display_name": "Python 3 (ipykernel)",
   "language": "python",
   "name": "python3"
  },
  "language_info": {
   "codemirror_mode": {
    "name": "ipython",
    "version": 3
   },
   "file_extension": ".py",
   "mimetype": "text/x-python",
   "name": "python",
   "nbconvert_exporter": "python",
   "pygments_lexer": "ipython3",
   "version": "3.10.0"
  }
 },
 "nbformat": 4,
 "nbformat_minor": 5
}
