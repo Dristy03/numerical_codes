{
 "cells": [
  {
   "cell_type": "code",
   "execution_count": 4,
   "id": "02b42091",
   "metadata": {},
   "outputs": [],
   "source": [
    "def function(x):\n",
    "    return x**3 - 5*x - 9"
   ]
  },
  {
   "cell_type": "code",
   "execution_count": 5,
   "id": "45620197",
   "metadata": {},
   "outputs": [],
   "source": [
    "def secant(x0,x1,es,N):\n",
    "    step = 1\n",
    "    condition = True\n",
    "    \n",
    "    while condition:\n",
    "        if function(x0) == function(x1):\n",
    "            print('Divide by zero error!')\n",
    "            break\n",
    "        \n",
    "        x2 = x0 - (x1-x0)*function(x0)/( function(x1) - function(x0) ) \n",
    "        x0 = x1\n",
    "        x1 = x2\n",
    "        step = step + 1\n",
    "        \n",
    "        if step > N:\n",
    "            print('Not Convergent!')\n",
    "            break\n",
    "        \n",
    "        condition = abs(function(x2)) > es\n",
    "    print('\\n Required root is: %0.8f' % x2)"
   ]
  },
  {
   "cell_type": "code",
   "execution_count": 6,
   "id": "e500b6d2",
   "metadata": {},
   "outputs": [
    {
     "name": "stdout",
     "output_type": "stream",
     "text": [
      "2\n",
      "3\n",
      "0.00001\n",
      "11\n",
      "\n",
      " Required root is: 2.85519628\n"
     ]
    }
   ],
   "source": [
    "x0 = float(input())\n",
    "x1 = float(input())\n",
    "es = float(input())\n",
    "N = int(input())\n",
    "secant(x0,x1,es,N)"
   ]
  },
  {
   "cell_type": "code",
   "execution_count": null,
   "id": "d2dcacaf",
   "metadata": {},
   "outputs": [],
   "source": []
  }
 ],
 "metadata": {
  "kernelspec": {
   "display_name": "Python 3 (ipykernel)",
   "language": "python",
   "name": "python3"
  },
  "language_info": {
   "codemirror_mode": {
    "name": "ipython",
    "version": 3
   },
   "file_extension": ".py",
   "mimetype": "text/x-python",
   "name": "python",
   "nbconvert_exporter": "python",
   "pygments_lexer": "ipython3",
   "version": "3.10.0"
  }
 },
 "nbformat": 4,
 "nbformat_minor": 5
}
