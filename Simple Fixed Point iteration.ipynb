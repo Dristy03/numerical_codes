{
 "cells": [
  {
   "cell_type": "code",
   "execution_count": 19,
   "id": "3f82a61c",
   "metadata": {},
   "outputs": [],
   "source": [
    "import math"
   ]
  },
  {
   "cell_type": "code",
   "execution_count": 20,
   "id": "5e6ba504",
   "metadata": {},
   "outputs": [],
   "source": [
    "def function(x):\n",
    "    return x*x*x + x*x -1"
   ]
  },
  {
   "cell_type": "code",
   "execution_count": 21,
   "id": "590bb655",
   "metadata": {},
   "outputs": [],
   "source": [
    "def g(x):\n",
    "    return 1/math.sqrt(1+x)"
   ]
  },
  {
   "cell_type": "code",
   "execution_count": 22,
   "id": "6549771b",
   "metadata": {},
   "outputs": [],
   "source": [
    "def fixedPointIteration(x0, es, N):\n",
    "    step = 1\n",
    "    flag = 1\n",
    "    condition = True\n",
    "    \n",
    "    while condition:\n",
    "        x1 = g(x0)\n",
    "        x0 = x1\n",
    "\n",
    "        step = step + 1\n",
    "        \n",
    "        if step > N:\n",
    "            flag=0\n",
    "            break\n",
    "        \n",
    "        condition = abs(function(x1)) > es\n",
    "\n",
    "    if flag==1:\n",
    "        print('\\nRequired root is: %0.8f' % x1)\n",
    "    else:\n",
    "        print('\\nNot Convergent.')"
   ]
  },
  {
   "cell_type": "code",
   "execution_count": 23,
   "id": "e3dabfc3",
   "metadata": {},
   "outputs": [
    {
     "name": "stdout",
     "output_type": "stream",
     "text": [
      "2\n",
      "0.00001\n",
      "10\n",
      "\n",
      "Required root is: 0.75487680\n"
     ]
    }
   ],
   "source": [
    "x0 = float(input())\n",
    "es = float(input())\n",
    "N = int(input())\n",
    "\n",
    "fixedPointIteration(x0,es,N)\n"
   ]
  },
  {
   "cell_type": "code",
   "execution_count": null,
   "id": "ea027c84",
   "metadata": {},
   "outputs": [],
   "source": []
  }
 ],
 "metadata": {
  "kernelspec": {
   "display_name": "Python 3 (ipykernel)",
   "language": "python",
   "name": "python3"
  },
  "language_info": {
   "codemirror_mode": {
    "name": "ipython",
    "version": 3
   },
   "file_extension": ".py",
   "mimetype": "text/x-python",
   "name": "python",
   "nbconvert_exporter": "python",
   "pygments_lexer": "ipython3",
   "version": "3.10.0"
  }
 },
 "nbformat": 4,
 "nbformat_minor": 5
}
